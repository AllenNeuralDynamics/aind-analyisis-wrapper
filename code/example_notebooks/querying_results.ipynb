{
 "cells": [
  {
   "cell_type": "code",
   "execution_count": null,
   "id": "b8399913",
   "metadata": {},
   "outputs": [],
   "source": [
    "from aind_analysis_results.metadata import get_docdb_client, get_docdb_records_partial\n",
    "from aind_analysis_results.result_files import list_results_files"
   ]
  },
  {
   "cell_type": "code",
   "execution_count": 4,
   "id": "0d045174",
   "metadata": {},
   "outputs": [
    {
     "data": {
      "text/plain": [
       "5"
      ]
     },
     "execution_count": 4,
     "metadata": {},
     "output_type": "execute_result"
    }
   ],
   "source": [
    "records = get_docdb_records_partial(latest_only=False, code_version='ec09a2d4ad9d8fde521890b9c5ad6f6e03c8d3b7')\n",
    "len(records)"
   ]
  },
  {
   "cell_type": "code",
   "execution_count": 17,
   "id": "731c61c3",
   "metadata": {},
   "outputs": [
    {
     "data": {
      "text/plain": [
       "['aind-scratch-data/analysis/architecture_example_v2/465fbf550175b69cf6fae869850d0eb12261b5dd0ec4ffee7d0807a22a0df1bc/metadata.nd.json']"
      ]
     },
     "execution_count": 17,
     "metadata": {},
     "output_type": "execute_result"
    }
   ],
   "source": [
    "files = list_results_files(records[1])\n",
    "files"
   ]
  },
  {
   "cell_type": "code",
   "execution_count": 20,
   "id": "c6dff8e2",
   "metadata": {},
   "outputs": [
    {
     "name": "stdout",
     "output_type": "stream",
     "text": [
      "{'object_type': 'Metadata', 'describedBy': 'https://raw.githubusercontent.com/AllenNeuralDynamics/aind-data-schema/main/src/aind_data_schema/core/metadata.py', 'schema_version': '2.0.71', 'name': '465fbf550175b69cf6fae869850d0eb12261b5dd0ec4ffee7d0807a22a0df1bc', 'location': 's3://aind-scratch-data/analysis/architecture_example_v2/465fbf550175b69cf6fae869850d0eb12261b5dd0ec4ffee7d0807a22a0df1bc', 'other_identifiers': None, 'subject': None, 'data_description': None, 'procedures': None, 'instrument': None, 'processing': {'object_type': 'Processing', 'describedBy': 'https://raw.githubusercontent.com/AllenNeuralDynamics/aind-data-schema/main/src/aind_data_schema/core/processing.py', 'schema_version': '2.0.71', 'data_processes': [{'object_type': 'Data process', 'process_type': 'Analysis', 'name': 'aind-analysis-wrapper', 'pipeline_name': None, 'start_date_time': '2025-06-25T00:12:35', 'end_date_time': '2025-06-25T00:12:41', 'output_path': None, 'output_parameters': {}, 'notes': None, 'resources': None, 'experimenters': [{'object_type': 'Person', 'name': '442f4608-94dc-4292-b250-b98af23a8181', 'registry': {'name': 'Open Researcher and Contributor ID', 'abbreviation': 'ORCID'}, 'registry_identifier': None}], 'code': {'object_type': 'Code', 'url': 'https://github.com/AllenNeuralDynamics/aind-analysis-wrapper.git', 'name': 'aind-analysis-wrapper', 'version': 'ec09a2d4ad9d8fde521890b9c5ad6f6e03c8d3b7', 'container': None, 'run_script': 'code/run', 'language': None, 'language_version': None, 'input_data': [{'object_type': 'Data asset', 'url': 's3://codeocean-s3datasetsbucket-1u41qdg42ur9/50fa9416-4e21-482f-8901-889322a87ae3'}], 'parameters': {'analysis_name': 'Unit Filtering', 'analysis_tag': \"Arjun's Filtering\", 'isi_violations_cutoff': 0.05}, 'core_dependency': None}}], 'pipelines': None, 'notes': None, 'dependency_graph': {'aind-analysis-wrapper': []}}, 'acquisition': None, 'quality_control': None, 'model': None}\n"
     ]
    }
   ],
   "source": [
    "import fsspec\n",
    "import json\n",
    "fs = fsspec.filesystem('s3')\n",
    "with fs.open(files[0]) as f:\n",
    "    print(json.load(f))\n",
    "    # print(f.read())"
   ]
  },
  {
   "cell_type": "code",
   "execution_count": 5,
   "id": "816777cf",
   "metadata": {},
   "outputs": [
    {
     "data": {
      "text/plain": [
       "[{'_id': 'a5eafea423c747fbb8202f4a88fe1696',\n",
       "  'object_type': 'Metadata',\n",
       "  'describedBy': 'https://raw.githubusercontent.com/AllenNeuralDynamics/aind-data-schema/main/src/aind_data_schema/core/metadata.py',\n",
       "  'schema_version': '2.0.71',\n",
       "  'name': '8284c990c370f30ed6c19f8426dc9c1f3863843969279aa3a1a18668dec597e5',\n",
       "  'location': 's3://aind-scratch-data/analysis/architecture_example_v2/8284c990c370f30ed6c19f8426dc9c1f3863843969279aa3a1a18668dec597e5',\n",
       "  'other_identifiers': None,\n",
       "  'subject': None,\n",
       "  'data_description': None,\n",
       "  'procedures': None,\n",
       "  'instrument': None,\n",
       "  'processing': {'object_type': 'Processing',\n",
       "   'describedBy': 'https://raw.githubusercontent.com/AllenNeuralDynamics/aind-data-schema/main/src/aind_data_schema/core/processing.py',\n",
       "   'schema_version': '2.0.71',\n",
       "   'data_processes': [{'object_type': 'Data process',\n",
       "     'process_type': 'Analysis',\n",
       "     'name': 'aind-analysis-wrapper',\n",
       "     'pipeline_name': None,\n",
       "     'start_date_time': '2025-06-25T00:11:06',\n",
       "     'end_date_time': '2025-06-25T00:11:36',\n",
       "     'output_path': None,\n",
       "     'output_parameters': {},\n",
       "     'notes': None,\n",
       "     'resources': None,\n",
       "     'experimenters': [{'object_type': 'Person',\n",
       "       'name': '442f4608-94dc-4292-b250-b98af23a8181',\n",
       "       'registry': {'name': 'Open Researcher and Contributor ID',\n",
       "        'abbreviation': 'ORCID'},\n",
       "       'registry_identifier': None}],\n",
       "     'code': {'object_type': 'Code',\n",
       "      'url': 'https://github.com/AllenNeuralDynamics/aind-analysis-wrapper.git',\n",
       "      'name': 'aind-analysis-wrapper',\n",
       "      'version': 'ec09a2d4ad9d8fde521890b9c5ad6f6e03c8d3b7',\n",
       "      'container': None,\n",
       "      'run_script': 'code/run',\n",
       "      'language': None,\n",
       "      'language_version': None,\n",
       "      'input_data': [{'object_type': 'Data asset',\n",
       "        'url': 's3://codeocean-s3datasetsbucket-1u41qdg42ur9/50fa9416-4e21-482f-8901-889322a87ae3'}],\n",
       "      'parameters': {'analysis_name': 'Unit Filtering',\n",
       "       'analysis_tag': \"Arjun's Filtering\",\n",
       "       'isi_violations_cutoff': 0.05},\n",
       "      'core_dependency': None}}],\n",
       "   'pipelines': None,\n",
       "   'notes': None,\n",
       "   'dependency_graph': {'aind-analysis-wrapper': []}},\n",
       "  'acquisition': None,\n",
       "  'quality_control': None,\n",
       "  'model': None}]"
      ]
     },
     "execution_count": 5,
     "metadata": {},
     "output_type": "execute_result"
    }
   ],
   "source": [
    "get_docdb_records_partial(latest_only=True)"
   ]
  },
  {
   "cell_type": "code",
   "execution_count": null,
   "id": "d4818c3a",
   "metadata": {},
   "outputs": [
    {
     "data": {
      "text/plain": [
       "{'object_type': 'Data process',\n",
       " 'process_type': 'Analysis',\n",
       " 'name': 'aind-analysis-wrapper',\n",
       " 'pipeline_name': None,\n",
       " 'start_date_time': '2025-06-25T00:11:06',\n",
       " 'end_date_time': '2025-06-25T00:11:36',\n",
       " 'output_path': None,\n",
       " 'output_parameters': {},\n",
       " 'notes': None,\n",
       " 'resources': None,\n",
       " 'experimenters': [{'object_type': 'Person',\n",
       "   'name': '442f4608-94dc-4292-b250-b98af23a8181',\n",
       "   'registry': {'name': 'Open Researcher and Contributor ID',\n",
       "    'abbreviation': 'ORCID'},\n",
       "   'registry_identifier': None}],\n",
       " 'code': {'object_type': 'Code',\n",
       "  'url': 'https://github.com/AllenNeuralDynamics/aind-analysis-wrapper.git',\n",
       "  'name': 'aind-analysis-wrapper',\n",
       "  'version': 'ec09a2d4ad9d8fde521890b9c5ad6f6e03c8d3b7',\n",
       "  'container': None,\n",
       "  'run_script': 'code/run',\n",
       "  'language': None,\n",
       "  'language_version': None,\n",
       "  'input_data': [{'object_type': 'Data asset',\n",
       "    'url': 's3://codeocean-s3datasetsbucket-1u41qdg42ur9/50fa9416-4e21-482f-8901-889322a87ae3'}],\n",
       "  'parameters': {'analysis_name': 'Unit Filtering',\n",
       "   'analysis_tag': \"Arjun's Filtering\",\n",
       "   'isi_violations_cutoff': 0.05},\n",
       "  'core_dependency': None}}"
      ]
     },
     "execution_count": 3,
     "metadata": {},
     "output_type": "execute_result"
    }
   ],
   "source": [
    "# we can also use the aind-data-access client directly\n",
    "client = get_docdb_client()\n",
    "record = client.retrieve_docdb_records(limit=1)[0]\n",
    "record[\"processing\"][\"data_processes\"][0]"
   ]
  },
  {
   "cell_type": "code",
   "execution_count": null,
   "id": "dca138ac",
   "metadata": {},
   "outputs": [
    {
     "data": {
      "text/plain": [
       "{'_id': 'a5eafea423c747fbb8202f4a88fe1696',\n",
       " 'object_type': 'Metadata',\n",
       " 'describedBy': 'https://raw.githubusercontent.com/AllenNeuralDynamics/aind-data-schema/main/src/aind_data_schema/core/metadata.py',\n",
       " 'schema_version': '2.0.71',\n",
       " 'name': '8284c990c370f30ed6c19f8426dc9c1f3863843969279aa3a1a18668dec597e5',\n",
       " 'location': 's3://aind-scratch-data/analysis/architecture_example_v2/8284c990c370f30ed6c19f8426dc9c1f3863843969279aa3a1a18668dec597e5',\n",
       " 'other_identifiers': None,\n",
       " 'subject': None,\n",
       " 'data_description': None,\n",
       " 'procedures': None,\n",
       " 'instrument': None,\n",
       " 'processing': {'object_type': 'Processing',\n",
       "  'describedBy': 'https://raw.githubusercontent.com/AllenNeuralDynamics/aind-data-schema/main/src/aind_data_schema/core/processing.py',\n",
       "  'schema_version': '2.0.71',\n",
       "  'data_processes': [{'object_type': 'Data process',\n",
       "    'process_type': 'Analysis',\n",
       "    'name': 'aind-analysis-wrapper',\n",
       "    'pipeline_name': None,\n",
       "    'start_date_time': '2025-06-25T00:11:06',\n",
       "    'end_date_time': '2025-06-25T00:11:36',\n",
       "    'output_path': None,\n",
       "    'output_parameters': {},\n",
       "    'notes': None,\n",
       "    'resources': None,\n",
       "    'experimenters': [{'object_type': 'Person',\n",
       "      'name': '442f4608-94dc-4292-b250-b98af23a8181',\n",
       "      'registry': {'name': 'Open Researcher and Contributor ID',\n",
       "       'abbreviation': 'ORCID'},\n",
       "      'registry_identifier': None}],\n",
       "    'code': {'object_type': 'Code',\n",
       "     'url': 'https://github.com/AllenNeuralDynamics/aind-analysis-wrapper.git',\n",
       "     'name': 'aind-analysis-wrapper',\n",
       "     'version': 'ec09a2d4ad9d8fde521890b9c5ad6f6e03c8d3b7',\n",
       "     'container': None,\n",
       "     'run_script': 'code/run',\n",
       "     'language': None,\n",
       "     'language_version': None,\n",
       "     'input_data': [{'object_type': 'Data asset',\n",
       "       'url': 's3://codeocean-s3datasetsbucket-1u41qdg42ur9/50fa9416-4e21-482f-8901-889322a87ae3'}],\n",
       "     'parameters': {'analysis_name': 'Unit Filtering',\n",
       "      'analysis_tag': \"Arjun's Filtering\",\n",
       "      'isi_violations_cutoff': 0.05},\n",
       "     'core_dependency': None}}],\n",
       "  'pipelines': None,\n",
       "  'notes': None,\n",
       "  'dependency_graph': {'aind-analysis-wrapper': []}},\n",
       " 'acquisition': None,\n",
       " 'quality_control': None,\n",
       " 'model': None}"
      ]
     },
     "execution_count": 4,
     "metadata": {},
     "output_type": "execute_result"
    }
   ],
   "source": [
    "\n",
    "code = {'object_type': 'Code',\n",
    "'url': 'https://github.com/AllenNeuralDynamics/aind-analysis-wrapper.git',\n",
    "'name': 'aind-analysis-wrapper',\n",
    "'version': 'ec09a2d4ad9d8fde521890b9c5ad6f6e03c8d3b7',\n",
    "'container': None,\n",
    "'run_script': 'code/run',\n",
    "'language': None,\n",
    "'language_version': None,\n",
    "'input_data': [{'object_type': 'Data asset',\n",
    "'url': 's3://codeocean-s3datasetsbucket-1u41qdg42ur9/50fa9416-4e21-482f-8901-889322a87ae3'}],\n",
    "'parameters': {'analysis_name': 'Unit Filtering',\n",
    "'analysis_tag': \"Arjun's Filtering\",\n",
    "'isi_violations_cutoff': 0.05},\n",
    "'core_dependency': None}\n",
    "\n",
    "client.retrieve_docdb_records({\"processing.data_processes.0.code\": code}, limit=1)[0]\n",
    "\n"
   ]
  },
  {
   "cell_type": "code",
   "execution_count": null,
   "id": "15311d16",
   "metadata": {},
   "outputs": [],
   "source": []
  }
 ],
 "metadata": {
  "kernelspec": {
   "display_name": "base",
   "language": "python",
   "name": "python3"
  },
  "language_info": {
   "codemirror_mode": {
    "name": "ipython",
    "version": 3
   },
   "file_extension": ".py",
   "mimetype": "text/x-python",
   "name": "python",
   "nbconvert_exporter": "python",
   "pygments_lexer": "ipython3",
   "version": "3.12.4"
  }
 },
 "nbformat": 4,
 "nbformat_minor": 5
}
